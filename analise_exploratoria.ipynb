{
 "cells": [
  {
   "cell_type": "markdown",
   "id": "c0d51597-4c04-4db9-9a48-8dab1697570d",
   "metadata": {},
   "source": [
    "# Bibliotecas e funções auxiliares"
   ]
  },
  {
   "cell_type": "code",
   "execution_count": null,
   "id": "ccba62cb-091c-4014-add3-35c7c14c0b62",
   "metadata": {},
   "outputs": [],
   "source": [
    "import matplotlib.pyplot as plt\n",
    "import numpy as np\n",
    "import os.path as osp\n",
    "import pandas as pd\n",
    "import re\n",
    "\n",
    "from itertools import pairwise"
   ]
  },
  {
   "cell_type": "code",
   "execution_count": null,
   "id": "64140ea5-0455-44ef-bb3c-475bd94382ba",
   "metadata": {},
   "outputs": [],
   "source": [
    "DEFAULT_BINS = [0,1,2,5,10]"
   ]
  },
  {
   "cell_type": "code",
   "execution_count": null,
   "id": "5536f4e7-1e0e-4a0d-b639-96914eb65433",
   "metadata": {},
   "outputs": [],
   "source": [
    "def clean_models(models: list):\n",
    "    stop_words = ['+',  '120hz', '2', '4g', '5g', 'amarelo', 'azul',\n",
    "                  'basic', 'bluetooth', 'br', 'branco', 'cinza', 'de',\n",
    "                  'earbuds', 'earphone', 'earphones', 'escuro', 'fone',\n",
    "                  'gradiente', 'inteligente', 'laranja', 'mi', 'prata',\n",
    "                  'preto', 'pulseira', 'rosa', 'roxo', 'tela', 'true',\n",
    "                  'verde', 'wireless', 'wireless']\n",
    "\n",
    "    pattern = '(([\\d]+gb)?[\\d]+gb)|(\\([\\d\\w-]+\\))|(\\d+,\\d+)|([+\"\\/\\',’])'\n",
    "    models = [model.lower() for model in models]\n",
    "    models = [re.sub(pattern,'',model) for model in models]\n",
    "    models = list(set([' '.join([token for token in model.split() if token not in stop_words]) for model in models]))\n",
    "    \n",
    "    return models"
   ]
  },
  {
   "cell_type": "code",
   "execution_count": null,
   "id": "c1230952-6892-4b37-b1ae-c0d61c57e22c",
   "metadata": {},
   "outputs": [],
   "source": [
    "def plot_results_count(search_results_count,bins=DEFAULT_BINS):\n",
    "    heights,_ = np.histogram(search_results_count,bins=bins)\n",
    "    x_labels = ['[{}-{})'.format(start,stop) for start,stop in pairwise(bins)]\n",
    "    x_labels[-1] = x_labels[-1].replace(')',']')\n",
    "    \n",
    "    bar_colors = ['tab:blue' for x in range(len(heights))]\n",
    "    bar_colors[0] = 'tab:red'\n",
    "    bar_colors[heights.argmax()] = 'tab:orange'\n",
    "    \n",
    "    fig, ax = plt.subplots()\n",
    "    \n",
    "    for i in range(len(heights)):\n",
    "        p = ax.bar(x_labels[i],heights[i], color=bar_colors[i], alpha=0.85)\n",
    "        ax.bar_label(p, label_type='center')\n",
    "    \n",
    "    # remove all the ticks (both axes), and tick labels on the Y axis\n",
    "    ax.tick_params(bottom=False, left=False,\n",
    "                   labelbottom=True, labelleft=False)\n",
    "    \n",
    "    # remove the frame of the chart\n",
    "    ax.spines['left'].set_visible(False)\n",
    "    ax.spines['right'].set_visible(False)\n",
    "    ax.spines['top'].set_visible(False)\n",
    "    ax.spines['bottom'].set_visible(False)\n",
    "    \n",
    "    ax.set_ylabel('Quantidade por Faixa')\n",
    "    ax.set_xlabel('Faixa de Resultados')\n",
    "    ax.set_title('Quantidade de Resultados Obtidos')\n",
    "    \n",
    "    plt.show()\n"
   ]
  },
  {
   "cell_type": "markdown",
   "id": "b12cc545-ae08-4431-83c1-a0475346daaa",
   "metadata": {},
   "source": [
    "# Carga e preparação dos dados"
   ]
  },
  {
   "cell_type": "markdown",
   "id": "e2cb9477-d88d-4a97-a839-2385447abcc2",
   "metadata": {},
   "source": [
    "## Importação dos arquivos"
   ]
  },
  {
   "cell_type": "code",
   "execution_count": null,
   "id": "8d12b48a-d88f-4067-806e-523ff4f33fe1",
   "metadata": {},
   "outputs": [],
   "source": [
    "# importar tabela completa do SCH (Dados Abertos)\n",
    "file_sch = 'datasets/produtos_certificados.zip'\n",
    "usecols = [0, 1, 2, 3, 11, 12, 13, 14, 15]\n",
    "dtype = {'Número de Homologação': 'str',\n",
    "         'CNPJ do Solicitante': 'str'}\n",
    "df_sch = pd.read_csv(file_sch,sep=';',usecols=usecols,dtype=dtype)\n",
    "\n",
    "# contar quantidade de números de homologação\n",
    "df_sch['Quantidade de Número de Homologação']=df_sch[['Número de Homologação','Modelo']].groupby('Número de Homologação').transform('count')\n",
    "df_sch = df_sch.sort_values(by=['Quantidade de Número de Homologação','Data da Homologação'],ascending=False).reset_index(drop=True)\n",
    "df_sch.head()"
   ]
  },
  {
   "cell_type": "code",
   "execution_count": null,
   "id": "ee90644c-cd1c-4cef-afb2-c6d86e1fb215",
   "metadata": {},
   "outputs": [],
   "source": [
    "# importar subset do SCH\n",
    "file_subset_sch = 'datasets/subset_sch.txt'\n",
    "dtype = {'Número de Homologação': 'str'}\n",
    "df_subset_sch = pd.read_csv(file_subset_sch,names=['Número de Homologação'],dtype=dtype)\n",
    "\n",
    "# merge SCH subset and SCH to join columns \"Modelo\" and \"Nome Comercial\"\n",
    "columns_to_merge = ['Número de Homologação', 'Modelo', 'Nome Comercial']\n",
    "df_subset_sch=df_subset_sch.merge(df_sch[columns_to_merge])\n",
    "df_subset_sch = df_subset_sch.fillna('#NULO#')\n",
    "df_subset_sch = df_subset_sch.drop_duplicates()\n",
    "df_subset_sch.head()"
   ]
  },
  {
   "cell_type": "code",
   "execution_count": null,
   "id": "866fda56-8ebe-44b0-9b14-28f31f0dddcf",
   "metadata": {},
   "outputs": [],
   "source": [
    "# importa lista de EAN da Xiaomi\n",
    "file_ean_xiaomi = 'datasets/ean_xiaomi.xlsx'\n",
    "dtype = {'EAN': 'str'}\n",
    "df_ean_xiaomi = pd.read_excel(file_ean_xiaomi,dtype=dtype)\n",
    "df_ean_xiaomi.head()"
   ]
  },
  {
   "cell_type": "code",
   "execution_count": null,
   "id": "202bcfda-7134-437e-be9b-144727bb4699",
   "metadata": {},
   "outputs": [],
   "source": [
    "ean_to_search = df_ean_xiaomi['EAN']\n",
    "ean_to_search.name='original_query'\n",
    "\n",
    "ean_models_to_search = pd.Series(clean_models(df_ean_xiaomi['Descrição']))\n",
    "ean_models_to_search.name='original_query'\n",
    "\n",
    "sch_to_search = df_subset_sch['Número de Homologação'].drop_duplicates()\n",
    "sch_to_search.name='original_query'\n",
    "\n",
    "sch_models_to_search = pd.Series(list(set(df_subset_sch['Modelo'].unique().tolist()+df_subset_sch['Nome Comercial'].unique().tolist())))\n",
    "sch_models_to_search.name='original_query'"
   ]
  },
  {
   "cell_type": "code",
   "execution_count": null,
   "id": "4d538302-7393-4507-a139-d491040da802",
   "metadata": {},
   "outputs": [],
   "source": [
    "# carregar resultados de pesquisa\n",
    "file_search_results = 'datasets/search_results/products_search_results.parquet'\n",
    "df_search_results = pd.read_parquet(file_search_results)\n",
    "\n",
    "# dividir resultados de pesquisa em grupos de pesquisa\n",
    "file_search_results_ean = 'datasets/search_results/products_search_results_ean.parquet'\n",
    "file_search_results_ean_models = 'datasets/search_results/products_search_results_ean_models.parquet'\n",
    "file_search_results_sch = 'datasets/search_results/products_search_results_sch.parquet'\n",
    "file_search_results_sch_models = 'datasets/search_results/products_search_results_sch_models.parquet'\n",
    "\n",
    "# carregar os arquivos por grupo, se já tiverem sido separados anteriormente,\n",
    "# caso contrário, separar e salvar o arquivo correspondente\n",
    "if osp.exists(file_search_results_ean):\n",
    "    df_search_results_ean = pd.read_parquet(file_search_results_ean)    \n",
    "    print(f'File {file_search_results_ean} loaded')\n",
    "else:\n",
    "    df_search_results_ean = df_search_results.merge(ean_to_search)\n",
    "    df_search_results_ean.to_parquet(file_search_results_ean)\n",
    "    print(f'Dataframe df_search_results_sch created and saved to file {file_search_results_ean}')\n",
    "\n",
    "if osp.exists(file_search_results_ean_models):\n",
    "    df_search_results_ean_models = pd.read_parquet(file_search_results_ean_models)  \n",
    "    print(f'File {file_search_results_ean_models} loaded')\n",
    "else:\n",
    "    df_search_results_ean_models = df_search_results.merge(ean_models_to_search)\n",
    "    df_search_results_ean_models.to_parquet(file_search_results_ean_models)\n",
    "    print(f'Dataframe df_search_results_sch created and saved to file {file_search_results_ean_models}')\n",
    "\n",
    "if osp.exists(file_search_results_sch):\n",
    "    df_search_results_sch = pd.read_parquet(file_search_results_sch)   \n",
    "    print(f'File {file_search_results_sch} loaded')\n",
    "else:\n",
    "    df_search_results_sch = df_search_results.merge(sch_to_search)\n",
    "    df_search_results_sch.to_parquet(file_search_results_sch)\n",
    "    print(f'Dataframe df_search_results_sch created and saved to file {file_search_results_sch}')\n",
    "\n",
    "if osp.exists(file_search_results_sch_models):\n",
    "    df_search_results_sch_models = pd.read_parquet(file_search_results_sch_models)   \n",
    "    print(f'File {file_search_results_sch_models} loaded')\n",
    "else:\n",
    "    df_search_results_sch_models = df_search_results.merge(sch_models_to_search)\n",
    "    df_search_results_sch_models.to_parquet(file_search_results_sch_models)\n",
    "    print(f'Dataframe df_search_results_sch created and saved to file {file_search_results_sch_models}')"
   ]
  },
  {
   "cell_type": "markdown",
   "id": "bfc1f851-8d33-44b9-a881-d0a869bd1026",
   "metadata": {},
   "source": [
    "# Análise"
   ]
  },
  {
   "cell_type": "code",
   "execution_count": null,
   "id": "a4d128fc-a690-4974-82a6-bccd0cf6ae0b",
   "metadata": {},
   "outputs": [],
   "source": [
    "df_search_results_ean['results'] = df_search_results_ean['url'].apply(lambda x: 0 if x is None else 1)\n",
    "df_search_results_ean"
   ]
  },
  {
   "cell_type": "code",
   "execution_count": null,
   "id": "e8ab26a6-2036-45d0-84bd-afdcd03d63f7",
   "metadata": {},
   "outputs": [],
   "source": [
    "search_results_count = df_search_results_ean[['original_query','results']].groupby('original_query').sum().values.reshape(-1,)\n",
    "plot_results_count(search_results_count)"
   ]
  }
 ],
 "metadata": {
  "kernelspec": {
   "display_name": "Python 3 (ipykernel)",
   "language": "python",
   "name": "python3"
  },
  "language_info": {
   "codemirror_mode": {
    "name": "ipython",
    "version": 3
   },
   "file_extension": ".py",
   "mimetype": "text/x-python",
   "name": "python",
   "nbconvert_exporter": "python",
   "pygments_lexer": "ipython3",
   "version": "3.10.12"
  }
 },
 "nbformat": 4,
 "nbformat_minor": 5
}
