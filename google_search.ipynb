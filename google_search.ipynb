{
 "cells": [
  {
   "cell_type": "code",
   "execution_count": null,
   "id": "92052435-bf64-4145-a944-94c08234c51c",
   "metadata": {},
   "outputs": [],
   "source": [
    "import configparser\n",
    "import os.path as osp\n",
    "import pandas as pd\n",
    "import re\n",
    "import requests\n",
    "import string\n",
    "\n",
    "from collections import Counter\n",
    "from tqdm.auto import tqdm"
   ]
  },
  {
   "cell_type": "code",
   "execution_count": null,
   "id": "dfd6ef0a-0cf3-483e-8511-59d8e59d2070",
   "metadata": {},
   "outputs": [],
   "source": [
    "def clean_models(models: list) -> set:\n",
    "    models = [model.lower() for model in df_ean['Descrição'].unique()]\n",
    "    stop_words = ['+',  '120hz', '2', '4g', '5g', 'amarelo', 'azul',\n",
    "                  'basic', 'bluetooth', 'br', 'branco', 'cinza', 'de',\n",
    "                  'earbuds', 'earphone', 'earphones', 'escuro', 'fone',\n",
    "                  'gradiente', 'inteligente', 'laranja', 'mi', 'prata',\n",
    "                  'preto', 'pulseira', 'rosa', 'roxo', 'tela', 'true',\n",
    "                  'verde', 'wireless', 'wireless']\n",
    "\n",
    "    pattern = '(([\\d]+gb)?[\\d]+gb)|(\\([\\d\\w-]+\\))|(\\d+,\\d+)|([+\"\\/\\',’])'\n",
    "    models = [re.sub(pattern,'',model) for model in models]\n",
    "    models = set([' '.join([token for token in model.split() if token not in stop_words]) for model in models])\n",
    "    return models"
   ]
  },
  {
   "cell_type": "code",
   "execution_count": null,
   "id": "37ea8788-9f23-4043-b399-c75426f7fc11",
   "metadata": {},
   "outputs": [],
   "source": [
    "ean_xiaomi_file = 'datasets/ean_xiaomi.xlsx'\n",
    "dtype={'EAN': 'str'}\n",
    "df_ean_xiaomi = pd.read_excel(ean_xiaomi_file,dtype=dtype)\n",
    "df_ean_xiaomi.head()"
   ]
  },
  {
   "cell_type": "code",
   "execution_count": null,
   "id": "dbe8f4af-b6f3-4958-a915-04f9bd081f46",
   "metadata": {},
   "outputs": [],
   "source": [
    "google_search_results_file = 'datasets/google_search_results.parquet'\n",
    "if osp.isfile(google_search_results_file):\n",
    "    df_google_search_results = pd.read_parquet(google_search_results_file)\n",
    "    previous_searched_items = df_google_search_results['originalQuery'].unique()\n",
    "    has_previous_searched_items = True\n",
    "    print('Loaded {} previous searched items'.format(len(previous_searched_items)))\n",
    "else: \n",
    "    has_previous_searched_items = False "
   ]
  },
  {
   "cell_type": "code",
   "execution_count": null,
   "id": "b1d0087e-b312-4b93-90f4-90e0d75c99a8",
   "metadata": {},
   "outputs": [],
   "source": [
    "creds_file = 'creds.ini'\n",
    "creds = configparser.ConfigParser()\n",
    "creds.read(creds_file)\n",
    "google_search_api_key = creds['GOOGLE_SEARCH']['google_search_api_key']\n",
    "google_search_engine_id = creds['GOOGLE_SEARCH']['google_search_engine_id']\n",
    "google_search_endpoint = creds['GOOGLE_SEARCH']['google_search_endpoint']\n",
    "\n",
    "results = []"
   ]
  },
  {
   "cell_type": "code",
   "execution_count": null,
   "id": "c80f1d4a-a4dd-47a5-9780-abfc41bc3fa9",
   "metadata": {},
   "outputs": [],
   "source": [
    "items_to_query = list(df_ean_xiaomi['EAN'].unique())\n",
    "items_to_query.extend(df_ean_xiaomi['Código. Referencia'])\n",
    "items_to_query.extend(clean_models(df_ean_xiaomi['Descrição']))\n",
    "\n",
    "if has_previous_searched_items:\n",
    "    items_to_query = [item for item in items_to_query if not item in previous_searched_items]\n",
    "\n",
    "print('{} items left to query'.format(len(items_to_query)))"
   ]
  },
  {
   "cell_type": "code",
   "execution_count": null,
   "id": "70421960-953b-4d8a-bf45-2424da9fc79e",
   "metadata": {},
   "outputs": [],
   "source": [
    "\n",
    "for ean in tqdm(items_to_query[:10]):\n",
    "    params = {'q': ean,\n",
    "              'key': google_search_api_key, \n",
    "              'cx': google_search_engine_id, \n",
    "              'count': 50,\n",
    "              'cr': 'countryBR', \n",
    "              'lr': 'lang_pt'}\n",
    "    \n",
    "    response = requests.get(google_search_endpoint, params=params)\n",
    "    try:\n",
    "        response.raise_for_status()\n",
    "        search_results = response.json()\n",
    "        originalQuery = search_results['queries']['request'][0]['searchTerms']\n",
    "        totalResults = int(search_results['searchInformation']['totalResults'])\n",
    "    \n",
    "        if totalResults > 0:\n",
    "            for item in search_results['items']:\n",
    "                name = item['title']\n",
    "                url = item['link']\n",
    "                if 'snippet' in item.keys():\n",
    "                    snippet = item['snippet']\n",
    "                else:\n",
    "                    snippet = None\n",
    "                \n",
    "                results.append({'originalQuery': originalQuery,\n",
    "                                'name': name,\n",
    "                                'url': url,\n",
    "                                'snippet': snippet})\n",
    "        else:\n",
    "            results.append({'originalQuery': originalQuery,                     \n",
    "                            'name': None,\n",
    "                            'url': None,\n",
    "                            'snippet': None})\n",
    "    except Exception as ex:\n",
    "        if response.status_code == 429:\n",
    "            print('Daily quota exceeded:')\n",
    "            print(ex)\n",
    "            break\n",
    "        else:\n",
    "            continue"
   ]
  },
  {
   "cell_type": "code",
   "execution_count": null,
   "id": "570303ae-ee23-4579-bc08-d5b299260808",
   "metadata": {},
   "outputs": [],
   "source": []
  },
  {
   "cell_type": "code",
   "execution_count": null,
   "id": "649f0d89-94fd-4109-b9f4-8faf44ee4cb4",
   "metadata": {},
   "outputs": [],
   "source": [
    "if has_previous_searched_items:\n",
    "    df_google_search_results = pd.concat([df_google_search_results,pd.DataFrame(results)])\n",
    "    df_google_search_results = df_google_search_results.drop_duplicates(subset='url').reset_index(drop=True)\n",
    "else:\n",
    "    df_google_search_results = pd.DataFrame(results)\n",
    "df_google_search_results.to_parquet(google_search_results_file)\n",
    "df_google_search_results"
   ]
  },
  {
   "cell_type": "code",
   "execution_count": null,
   "id": "cc4af994-4b5a-4cb0-8d11-cf5ae77583f1",
   "metadata": {},
   "outputs": [],
   "source": []
  }
 ],
 "metadata": {
  "kernelspec": {
   "display_name": "Python 3 (ipykernel)",
   "language": "python",
   "name": "python3"
  },
  "language_info": {
   "codemirror_mode": {
    "name": "ipython",
    "version": 3
   },
   "file_extension": ".py",
   "mimetype": "text/x-python",
   "name": "python",
   "nbconvert_exporter": "python",
   "pygments_lexer": "ipython3",
   "version": "3.10.12"
  }
 },
 "nbformat": 4,
 "nbformat_minor": 5
}
