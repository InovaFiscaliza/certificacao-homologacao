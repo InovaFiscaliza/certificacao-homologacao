{
 "cells": [
  {
   "cell_type": "code",
   "execution_count": null,
   "id": "2b2317bb-ac7c-4dd3-9730-d5fafe70696a",
   "metadata": {},
   "outputs": [],
   "source": [
    "import configparser\n",
    "import pandas as pd\n",
    "import re\n",
    "import requests\n",
    "import string\n",
    "\n",
    "from collections import Counter\n",
    "from tqdm.auto import tqdm"
   ]
  },
  {
   "cell_type": "code",
   "execution_count": null,
   "id": "9885c1c7-63ef-4679-a499-b9f722e18b4d",
   "metadata": {},
   "outputs": [],
   "source": [
    "ean_file = 'datasets/ean_xiaomi.xlsx'\n",
    "df_ean = pd.read_excel(ean_file)\n",
    "df_ean"
   ]
  },
  {
   "cell_type": "code",
   "execution_count": null,
   "id": "e6a29cf7-d592-4cc0-85ad-e3a260dc3513",
   "metadata": {},
   "outputs": [],
   "source": [
    "def clean_models(models: list) -> set:\n",
    "    models = [model.lower() for model in df_ean['Descrição'].unique()]\n",
    "    stop_words = ['+',  '120hz', '2', '4g', '5g', 'amarelo', 'azul',\n",
    "                  'basic', 'bluetooth', 'br', 'branco', 'cinza', 'de',\n",
    "                  'earbuds', 'earphone', 'earphones', 'escuro', 'fone',\n",
    "                  'gradiente', 'inteligente', 'laranja', 'mi', 'prata',\n",
    "                  'preto', 'pulseira', 'rosa', 'roxo', 'tela', 'true',\n",
    "                  'verde', 'wireless', 'wireless']\n",
    "\n",
    "    pattern = '(([\\d]+gb)?[\\d]+gb)|(\\([\\d\\w-]+\\))|(\\d+,\\d+)|([+\"\\/\\',’])'\n",
    "    models = [re.sub(pattern,'',model) for model in models]\n",
    "    models = set([' '.join([token for token in model.split() if token not in stop_words]) for model in models])\n",
    "    return models"
   ]
  },
  {
   "cell_type": "code",
   "execution_count": null,
   "id": "c8829f25-3eb7-4bb8-a0b5-458d873a6dbd",
   "metadata": {},
   "outputs": [],
   "source": [
    "creds_file = 'creds.ini'\n",
    "creds = configparser.ConfigParser()\n",
    "creds.read(creds_file)\n",
    "bing_search_api_key = creds['BING_SEARCH']['bing_search_api_key']\n",
    "bing_search_endpoint = creds['BING_SEARCH']['bing_search_endpoint']"
   ]
  },
  {
   "cell_type": "code",
   "execution_count": null,
   "id": "898b43c1-ad6d-4c89-8427-7f67c316fd8e",
   "metadata": {},
   "outputs": [],
   "source": [
    "def bing_search(search_term):\n",
    "    headers = {'Ocp-Apim-Subscription-Key': bing_search_api_key}\n",
    "    params = {'q': search_term,\n",
    "              # A 2-character country code of the country where the results come from.\n",
    "              'cc': 'BR',\n",
    "              # The number of search results to return in the response. \n",
    "              # The default is 10 and the maximum value is 50. \n",
    "              # he actual number delivered may be less than requested.\n",
    "              'count': 50,\n",
    "              # The market where the results come from.\n",
    "              'mkt': 'pt-BR',\n",
    "              # A comma-delimited list of answers to include in the response.\n",
    "              'responseFilter': 'Webpages',\n",
    "              }\n",
    "    response = requests.get(bing_search_endpoint, headers=headers, params=params)\n",
    "    try:\n",
    "        response.raise_for_status()\n",
    "        search_results = response.json()\n",
    "        \n",
    "        originalQuery = search_results['queryContext']['originalQuery']\n",
    "    \n",
    "        if search_results['rankingResponse'] and 'webPages' in search_results.keys():\n",
    "            results = []\n",
    "            for result in search_results['webPages']['value']:\n",
    "                results.append({'originalQuery': originalQuery,\n",
    "                                'name': result['name'],\n",
    "                                'url': result['url'],\n",
    "                                'snippet': result['snippet']})\n",
    "            return results\n",
    "    \n",
    "        else:\n",
    "            return [{'originalQuery': originalQuery,\n",
    "                     'name': None,\n",
    "                     'url': None,\n",
    "                     'snippet': None}]\n",
    "    except Exception as ex:\n",
    "        return None\n",
    "        "
   ]
  },
  {
   "cell_type": "code",
   "execution_count": null,
   "id": "7230e665-c25a-45f4-94f6-65fead25909d",
   "metadata": {},
   "outputs": [],
   "source": [
    "search_results = []\n",
    "for ean in tqdm(df_ean['EAN'].unique()):\n",
    "    result = bing_search(ean)\n",
    "    if result: \n",
    "        search_results.extend(result)    "
   ]
  },
  {
   "cell_type": "code",
   "execution_count": null,
   "id": "9943c19b-7c6e-4873-a56c-2ad3b8dc18bc",
   "metadata": {},
   "outputs": [],
   "source": [
    "search_results"
   ]
  },
  {
   "cell_type": "code",
   "execution_count": null,
   "id": "be450433-8e03-4a66-9626-1adca2ec6bea",
   "metadata": {},
   "outputs": [],
   "source": [
    "cleaned_models = clean_models(df_ean['Descrição'])\n",
    "for model in tqdm(cleaned_models):\n",
    "    result = bing_search(model)\n",
    "    if result: \n",
    "        search_results.extend(result) "
   ]
  },
  {
   "cell_type": "code",
   "execution_count": null,
   "id": "07820f8b-ac09-453c-976b-67d7c0232b09",
   "metadata": {},
   "outputs": [],
   "source": [
    "for codigo_referencia in tqdm(df_ean['Código. Referencia']):\n",
    "    result = bing_search(codigo_referencia)\n",
    "    if result: \n",
    "        search_results.extend(result)"
   ]
  },
  {
   "cell_type": "code",
   "execution_count": null,
   "id": "bb9a94d3-0cef-4edc-bef7-3a687d936889",
   "metadata": {},
   "outputs": [],
   "source": [
    "df_search_results = pd.DataFrame(search_results)\n",
    "df_search_results['site'] = df_search_results['url'].apply(lambda url: re.search('\\w+(?=\\.com)',url).group() if not pd.isna(url) and re.search('\\w+(?=\\.com)',url) else None)\n",
    "df_search_results['country'] = df_search_results['url'].apply(lambda url: re.search('(?<=\\.)\\w{2}(?=\\/)',url).group() if not pd.isna(url) and re.search('(?<=\\.)\\w{2}(?=\\/)',url) else None)\n",
    "df_search_results.to_csv('datasets/bing_search_results.csv',index=False,sep='|')\n",
    "df_search_results.to_csv('datasets/bing_search_results.csv.zip',index=False,sep='|')\n",
    "df_search_results"
   ]
  },
  {
   "cell_type": "code",
   "execution_count": null,
   "id": "71239de0-7477-4d83-aba6-d2455fb2e532",
   "metadata": {},
   "outputs": [],
   "source": [
    "df_search_results = df_search_results.drop_duplicates(subset='url')\n",
    "df_search_results"
   ]
  },
  {
   "cell_type": "code",
   "execution_count": null,
   "id": "2e2be773-c88f-4260-9183-7c1708d2ebab",
   "metadata": {},
   "outputs": [],
   "source": [
    "df_search_results"
   ]
  }
 ],
 "metadata": {
  "kernelspec": {
   "display_name": "Python 3 (ipykernel)",
   "language": "python",
   "name": "python3"
  },
  "language_info": {
   "codemirror_mode": {
    "name": "ipython",
    "version": 3
   },
   "file_extension": ".py",
   "mimetype": "text/x-python",
   "name": "python",
   "nbconvert_exporter": "python",
   "pygments_lexer": "ipython3",
   "version": "3.10.12"
  }
 },
 "nbformat": 4,
 "nbformat_minor": 5
}
