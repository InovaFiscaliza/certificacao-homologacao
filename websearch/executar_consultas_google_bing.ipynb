{
 "cells": [
  {
   "cell_type": "markdown",
   "id": "4a1031f2-95da-4da7-972c-22ba80cc41d3",
   "metadata": {},
   "source": [
    "# Bibliotecas e funções auxiliares"
   ]
  },
  {
   "cell_type": "code",
   "execution_count": 1,
   "id": "1047a0d4-70a9-4384-95ce-146378c28ca0",
   "metadata": {},
   "outputs": [],
   "source": [
    "import numpy as np\n",
    "import os.path as osp\n",
    "import pandas as pd\n",
    "import re\n",
    "\n",
    "from time import sleep\n",
    "from datetime import datetime\n",
    "from tqdm.auto import tqdm\n",
    "\n",
    "from websearch import WebSearchEngine\n",
    "from websearch import WebSearchDataManager\n"
   ]
  },
  {
   "cell_type": "code",
   "execution_count": 2,
   "id": "2624876e-7082-472f-8094-ea0bda3d3c25",
   "metadata": {},
   "outputs": [],
   "source": [
    "def clean_models(models: list):\n",
    "    stop_words = ['+',  '120hz', '2', '4g', '5g', 'amarelo', 'azul',\n",
    "                  'basic', 'bluetooth', 'br', 'branco', 'cinza', 'de',\n",
    "                  'earbuds', 'earphone', 'earphones', 'escuro', 'fone',\n",
    "                  'gradiente', 'inteligente', 'laranja', 'mi', 'prata',\n",
    "                  'preto', 'pulseira', 'rosa', 'roxo', 'tela', 'true',\n",
    "                  'verde', 'wireless', 'wireless']\n",
    "\n",
    "    pattern = '(([\\d]+gb)?[\\d]+gb)|(\\([\\d\\w-]+\\))|(\\d+,\\d+)|([+\"\\/\\',’])'\n",
    "    models = [model.lower() for model in models]\n",
    "    models = [re.sub(pattern,'',model) for model in models]\n",
    "    models = list(set([' '.join([token for token in model.split() if token not in stop_words]) for model in models]))\n",
    "    \n",
    "    return models"
   ]
  },
  {
   "cell_type": "markdown",
   "id": "41823c0d-937c-4d39-bbe9-4c117cadd98f",
   "metadata": {},
   "source": [
    "# Carga e preparação dos dados"
   ]
  },
  {
   "cell_type": "markdown",
   "id": "0209f100-d88f-46b9-9e0a-9a88d2a8a250",
   "metadata": {},
   "source": [
    "## Importação dos arquivos"
   ]
  },
  {
   "cell_type": "code",
   "execution_count": 3,
   "id": "360069e2-56fe-48de-9324-254bdec0c193",
   "metadata": {},
   "outputs": [
    {
     "data": {
      "text/html": [
       "<div>\n",
       "<style scoped>\n",
       "    .dataframe tbody tr th:only-of-type {\n",
       "        vertical-align: middle;\n",
       "    }\n",
       "\n",
       "    .dataframe tbody tr th {\n",
       "        vertical-align: top;\n",
       "    }\n",
       "\n",
       "    .dataframe thead th {\n",
       "        text-align: right;\n",
       "    }\n",
       "</style>\n",
       "<table border=\"1\" class=\"dataframe\">\n",
       "  <thead>\n",
       "    <tr style=\"text-align: right;\">\n",
       "      <th></th>\n",
       "      <th>Data da Homologação</th>\n",
       "      <th>Número de Homologação</th>\n",
       "      <th>Nome do Solicitante</th>\n",
       "      <th>CNPJ do Solicitante</th>\n",
       "      <th>Nome do Fabricante</th>\n",
       "      <th>Modelo</th>\n",
       "      <th>Nome Comercial</th>\n",
       "      <th>Categoria do Produto</th>\n",
       "      <th>Tipo do Produto</th>\n",
       "      <th>Quantidade de Número de Homologação</th>\n",
       "    </tr>\n",
       "  </thead>\n",
       "  <tbody>\n",
       "    <tr>\n",
       "      <th>0</th>\n",
       "      <td>26/12/2023</td>\n",
       "      <td>037242214637</td>\n",
       "      <td>Costa Verde Importação e Exportação EIRELI</td>\n",
       "      <td>36489846000184</td>\n",
       "      <td>Shenzhen Jinhongxing Technology Co., Ltd.</td>\n",
       "      <td>W34+</td>\n",
       "      <td>Smartwatch</td>\n",
       "      <td>2</td>\n",
       "      <td>Equipamento de Radiocomunicação de Radiação Re...</td>\n",
       "      <td>319</td>\n",
       "    </tr>\n",
       "    <tr>\n",
       "      <th>1</th>\n",
       "      <td>26/12/2023</td>\n",
       "      <td>037242214637</td>\n",
       "      <td>Costa Verde Importação e Exportação EIRELI</td>\n",
       "      <td>36489846000184</td>\n",
       "      <td>Shenzhen Jinhongxing Technology Co., Ltd.</td>\n",
       "      <td>W34+</td>\n",
       "      <td>Relógio Inteligente</td>\n",
       "      <td>2</td>\n",
       "      <td>Equipamento de Radiocomunicação de Radiação Re...</td>\n",
       "      <td>319</td>\n",
       "    </tr>\n",
       "    <tr>\n",
       "      <th>2</th>\n",
       "      <td>26/12/2023</td>\n",
       "      <td>037242214637</td>\n",
       "      <td>Costa Verde Importação e Exportação EIRELI</td>\n",
       "      <td>36489846000184</td>\n",
       "      <td>Shenzhen Jinhongxing Technology Co., Ltd.</td>\n",
       "      <td>HW18</td>\n",
       "      <td>Smartwatch</td>\n",
       "      <td>2</td>\n",
       "      <td>Equipamento de Radiocomunicação de Radiação Re...</td>\n",
       "      <td>319</td>\n",
       "    </tr>\n",
       "    <tr>\n",
       "      <th>3</th>\n",
       "      <td>26/12/2023</td>\n",
       "      <td>037242214637</td>\n",
       "      <td>Costa Verde Importação e Exportação EIRELI</td>\n",
       "      <td>36489846000184</td>\n",
       "      <td>Shenzhen Jinhongxing Technology Co., Ltd.</td>\n",
       "      <td>HW18</td>\n",
       "      <td>Relógio Inteligente</td>\n",
       "      <td>2</td>\n",
       "      <td>Equipamento de Radiocomunicação de Radiação Re...</td>\n",
       "      <td>319</td>\n",
       "    </tr>\n",
       "    <tr>\n",
       "      <th>4</th>\n",
       "      <td>26/12/2023</td>\n",
       "      <td>037242214637</td>\n",
       "      <td>Costa Verde Importação e Exportação EIRELI</td>\n",
       "      <td>36489846000184</td>\n",
       "      <td>Shenzhen Jinhongxing Technology Co., Ltd.</td>\n",
       "      <td>HW19</td>\n",
       "      <td>Smartwatch</td>\n",
       "      <td>2</td>\n",
       "      <td>Equipamento de Radiocomunicação de Radiação Re...</td>\n",
       "      <td>319</td>\n",
       "    </tr>\n",
       "  </tbody>\n",
       "</table>\n",
       "</div>"
      ],
      "text/plain": [
       "  Data da Homologação Número de Homologação  \\\n",
       "0          26/12/2023          037242214637   \n",
       "1          26/12/2023          037242214637   \n",
       "2          26/12/2023          037242214637   \n",
       "3          26/12/2023          037242214637   \n",
       "4          26/12/2023          037242214637   \n",
       "\n",
       "                          Nome do Solicitante CNPJ do Solicitante  \\\n",
       "0  Costa Verde Importação e Exportação EIRELI      36489846000184   \n",
       "1  Costa Verde Importação e Exportação EIRELI      36489846000184   \n",
       "2  Costa Verde Importação e Exportação EIRELI      36489846000184   \n",
       "3  Costa Verde Importação e Exportação EIRELI      36489846000184   \n",
       "4  Costa Verde Importação e Exportação EIRELI      36489846000184   \n",
       "\n",
       "                          Nome do Fabricante Modelo       Nome Comercial  \\\n",
       "0  Shenzhen Jinhongxing Technology Co., Ltd.   W34+           Smartwatch   \n",
       "1  Shenzhen Jinhongxing Technology Co., Ltd.   W34+  Relógio Inteligente   \n",
       "2  Shenzhen Jinhongxing Technology Co., Ltd.   HW18           Smartwatch   \n",
       "3  Shenzhen Jinhongxing Technology Co., Ltd.   HW18  Relógio Inteligente   \n",
       "4  Shenzhen Jinhongxing Technology Co., Ltd.   HW19           Smartwatch   \n",
       "\n",
       "   Categoria do Produto                                    Tipo do Produto  \\\n",
       "0                     2  Equipamento de Radiocomunicação de Radiação Re...   \n",
       "1                     2  Equipamento de Radiocomunicação de Radiação Re...   \n",
       "2                     2  Equipamento de Radiocomunicação de Radiação Re...   \n",
       "3                     2  Equipamento de Radiocomunicação de Radiação Re...   \n",
       "4                     2  Equipamento de Radiocomunicação de Radiação Re...   \n",
       "\n",
       "   Quantidade de Número de Homologação  \n",
       "0                                  319  \n",
       "1                                  319  \n",
       "2                                  319  \n",
       "3                                  319  \n",
       "4                                  319  "
      ]
     },
     "execution_count": 3,
     "metadata": {},
     "output_type": "execute_result"
    }
   ],
   "source": [
    "# importar tabela completa do SCH (Dados Abertos)\n",
    "file_sch = 'datasets/produtos_certificados.zip'\n",
    "usecols = [0, 1, 2, 3, 11, 12, 13, 14, 15]\n",
    "dtype = {'Número de Homologação': 'str',\n",
    "         'CNPJ do Solicitante': 'str'}\n",
    "df_sch = pd.read_csv(file_sch,sep=';',usecols=usecols,dtype=dtype)\n",
    "\n",
    "# contar quantidade de números de homologação\n",
    "df_sch['Quantidade de Número de Homologação']=df_sch[['Número de Homologação','Modelo']].groupby('Número de Homologação').transform('count')\n",
    "df_sch = df_sch.sort_values(by=['Quantidade de Número de Homologação','Data da Homologação'],ascending=False).reset_index(drop=True)\n",
    "df_sch.head()"
   ]
  },
  {
   "cell_type": "code",
   "execution_count": 4,
   "id": "375ded27-05e4-452e-b68b-3121ff62fbfc",
   "metadata": {},
   "outputs": [
    {
     "data": {
      "text/html": [
       "<div>\n",
       "<style scoped>\n",
       "    .dataframe tbody tr th:only-of-type {\n",
       "        vertical-align: middle;\n",
       "    }\n",
       "\n",
       "    .dataframe tbody tr th {\n",
       "        vertical-align: top;\n",
       "    }\n",
       "\n",
       "    .dataframe thead th {\n",
       "        text-align: right;\n",
       "    }\n",
       "</style>\n",
       "<table border=\"1\" class=\"dataframe\">\n",
       "  <thead>\n",
       "    <tr style=\"text-align: right;\">\n",
       "      <th></th>\n",
       "      <th>Número de Homologação</th>\n",
       "      <th>Modelo</th>\n",
       "      <th>Nome Comercial</th>\n",
       "    </tr>\n",
       "  </thead>\n",
       "  <tbody>\n",
       "    <tr>\n",
       "      <th>0</th>\n",
       "      <td>037242214637</td>\n",
       "      <td>W34+</td>\n",
       "      <td>Smartwatch</td>\n",
       "    </tr>\n",
       "    <tr>\n",
       "      <th>1</th>\n",
       "      <td>037242214637</td>\n",
       "      <td>W34+</td>\n",
       "      <td>Relógio Inteligente</td>\n",
       "    </tr>\n",
       "    <tr>\n",
       "      <th>2</th>\n",
       "      <td>037242214637</td>\n",
       "      <td>HW18</td>\n",
       "      <td>Smartwatch</td>\n",
       "    </tr>\n",
       "    <tr>\n",
       "      <th>3</th>\n",
       "      <td>037242214637</td>\n",
       "      <td>HW18</td>\n",
       "      <td>Relógio Inteligente</td>\n",
       "    </tr>\n",
       "    <tr>\n",
       "      <th>4</th>\n",
       "      <td>037242214637</td>\n",
       "      <td>HW19</td>\n",
       "      <td>Smartwatch</td>\n",
       "    </tr>\n",
       "  </tbody>\n",
       "</table>\n",
       "</div>"
      ],
      "text/plain": [
       "  Número de Homologação Modelo       Nome Comercial\n",
       "0          037242214637   W34+           Smartwatch\n",
       "1          037242214637   W34+  Relógio Inteligente\n",
       "2          037242214637   HW18           Smartwatch\n",
       "3          037242214637   HW18  Relógio Inteligente\n",
       "4          037242214637   HW19           Smartwatch"
      ]
     },
     "execution_count": 4,
     "metadata": {},
     "output_type": "execute_result"
    }
   ],
   "source": [
    "# importar subset do SCH\n",
    "file_subset_sch = 'datasets/subset_sch.txt'\n",
    "dtype = {'Número de Homologação': 'str'}\n",
    "df_subset_sch = pd.read_csv(file_subset_sch,names=['Número de Homologação'],dtype=dtype)\n",
    "\n",
    "# merge SCH subset and SCH to join columns \"Modelo\" and \"Nome Comercial\"\n",
    "columns_to_merge = ['Número de Homologação', 'Modelo', 'Nome Comercial']\n",
    "df_subset_sch=df_subset_sch.merge(df_sch[columns_to_merge])\n",
    "df_subset_sch = df_subset_sch.fillna('#NULO#')\n",
    "df_subset_sch = df_subset_sch.drop_duplicates()\n",
    "df_subset_sch.head()"
   ]
  },
  {
   "cell_type": "code",
   "execution_count": 5,
   "id": "87d19b6a-6893-4feb-84be-ef870ba8e9ae",
   "metadata": {},
   "outputs": [
    {
     "data": {
      "text/html": [
       "<div>\n",
       "<style scoped>\n",
       "    .dataframe tbody tr th:only-of-type {\n",
       "        vertical-align: middle;\n",
       "    }\n",
       "\n",
       "    .dataframe tbody tr th {\n",
       "        vertical-align: top;\n",
       "    }\n",
       "\n",
       "    .dataframe thead th {\n",
       "        text-align: right;\n",
       "    }\n",
       "</style>\n",
       "<table border=\"1\" class=\"dataframe\">\n",
       "  <thead>\n",
       "    <tr style=\"text-align: right;\">\n",
       "      <th></th>\n",
       "      <th>Código. Referencia</th>\n",
       "      <th>Descrição</th>\n",
       "      <th>EAN</th>\n",
       "    </tr>\n",
       "  </thead>\n",
       "  <tbody>\n",
       "    <tr>\n",
       "      <th>0</th>\n",
       "      <td>CX298VRD</td>\n",
       "      <td>Smartphone Xiaomi Redmi 9A Tela 6,53\" 2GB/32GB...</td>\n",
       "      <td>7898567779018</td>\n",
       "    </tr>\n",
       "    <tr>\n",
       "      <th>1</th>\n",
       "      <td>CX298AZU</td>\n",
       "      <td>Smartphone Xiaomi Redmi 9A Tela 6,53\" 2GB/32GB...</td>\n",
       "      <td>7898567778998</td>\n",
       "    </tr>\n",
       "    <tr>\n",
       "      <th>2</th>\n",
       "      <td>CX298CIN</td>\n",
       "      <td>Smartphone Xiaomi Redmi 9A Tela 6,53\" 2GB/32GB...</td>\n",
       "      <td>7898567779001</td>\n",
       "    </tr>\n",
       "    <tr>\n",
       "      <th>3</th>\n",
       "      <td>CX297VRD</td>\n",
       "      <td>Smartphone Xiaomi Redmi 9 Tela 6,53\" 4GB/64GB ...</td>\n",
       "      <td>7898567778875</td>\n",
       "    </tr>\n",
       "    <tr>\n",
       "      <th>4</th>\n",
       "      <td>CX297ROX</td>\n",
       "      <td>Smartphone Xiaomi Redmi 9 Tela 6,53\" 4GB/64GB ...</td>\n",
       "      <td>7898567778868</td>\n",
       "    </tr>\n",
       "  </tbody>\n",
       "</table>\n",
       "</div>"
      ],
      "text/plain": [
       "  Código. Referencia                                          Descrição  \\\n",
       "0           CX298VRD  Smartphone Xiaomi Redmi 9A Tela 6,53\" 2GB/32GB...   \n",
       "1           CX298AZU  Smartphone Xiaomi Redmi 9A Tela 6,53\" 2GB/32GB...   \n",
       "2           CX298CIN  Smartphone Xiaomi Redmi 9A Tela 6,53\" 2GB/32GB...   \n",
       "3           CX297VRD  Smartphone Xiaomi Redmi 9 Tela 6,53\" 4GB/64GB ...   \n",
       "4           CX297ROX  Smartphone Xiaomi Redmi 9 Tela 6,53\" 4GB/64GB ...   \n",
       "\n",
       "             EAN  \n",
       "0  7898567779018  \n",
       "1  7898567778998  \n",
       "2  7898567779001  \n",
       "3  7898567778875  \n",
       "4  7898567778868  "
      ]
     },
     "execution_count": 5,
     "metadata": {},
     "output_type": "execute_result"
    }
   ],
   "source": [
    "# importa lista de EAN da Xiaomi\n",
    "file_ean_xiaomi = 'datasets/ean_xiaomi.xlsx'\n",
    "dtype = {'EAN': 'str'}\n",
    "df_ean_xiaomi = pd.read_excel(file_ean_xiaomi,dtype=dtype)\n",
    "df_ean_xiaomi.head()"
   ]
  },
  {
   "cell_type": "markdown",
   "id": "25137a47-2c47-405d-9a27-d1488cf4fa81",
   "metadata": {},
   "source": [
    "# Pequisas"
   ]
  },
  {
   "cell_type": "markdown",
   "id": "daf585d2-3b51-4a9a-9d78-dc1526016422",
   "metadata": {},
   "source": [
    "## Preparação dos dados para gerar itens de pesquisa"
   ]
  },
  {
   "cell_type": "code",
   "execution_count": 6,
   "id": "128c22eb-d77a-4d02-9914-ee2e60ebbbee",
   "metadata": {},
   "outputs": [
    {
     "name": "stdout",
     "output_type": "stream",
     "text": [
      "0 items left to search in Google\n",
      "0 items left to search in Bing\n"
     ]
    }
   ],
   "source": [
    "ean_to_search = df_ean_xiaomi['EAN'].to_list()\n",
    "ean_models_to_search = clean_models(df_ean_xiaomi['Descrição'])\n",
    "sch_to_search = df_subset_sch['Número de Homologação'].unique().tolist()\n",
    "sch_models_to_search = list(set(df_subset_sch['Modelo'].unique().tolist()+df_subset_sch['Nome Comercial'].unique().tolist()))\n",
    "all_items_to_search = ean_to_search+ean_models_to_search+sch_to_search+sch_models_to_search\n",
    "bing_items_to_search = ean_to_search+ean_models_to_search+sch_to_search\n",
    "\n",
    "# importa resultaos de busca passados\n",
    "file_search_results = 'datasets/search_results/products_search_results.parquet'\n",
    "if osp.exists(file_search_results):\n",
    "    df_search_results = pd.read_parquet(file_search_results)\n",
    "    google_previous_search = df_search_results[df_search_results['search_provider']=='Google']['original_query'].unique().tolist()\n",
    "    bing_previous_search = df_search_results[df_search_results['search_provider']=='Bing']['original_query'].unique().tolist()\n",
    "else:\n",
    "    google_previous_search = []\n",
    "    bing_previous_search = []\n",
    "    \n",
    "google_items_to_search = [item for item in all_items_to_search if item not in google_previous_search]\n",
    "bing_items_to_search = [item for item in bing_items_to_search if item not in bing_previous_search]\n",
    "\n",
    "print('{} items left to search in Google'.format(len(google_items_to_search)))\n",
    "print('{} items left to search in Bing'.format(len(bing_items_to_search)))"
   ]
  },
  {
   "cell_type": "markdown",
   "id": "9f7ac04a-1244-4a9a-8ba3-cc5fefb0d60e",
   "metadata": {},
   "source": [
    "## Objetos de pesquisa e gerenciamento de dados"
   ]
  },
  {
   "cell_type": "code",
   "execution_count": 7,
   "id": "ac0e3976-332f-48c5-9ca7-b38cd6252062",
   "metadata": {},
   "outputs": [
    {
     "name": "stdout",
     "output_type": "stream",
     "text": [
      "187401 previous searches results loaded\n"
     ]
    }
   ],
   "source": [
    "search_data = WebSearchDataManager()\n",
    "search_data.load_search_results()\n",
    "print('{} previous searches results loaded'.format(len(search_data.clean_search_results)))"
   ]
  },
  {
   "cell_type": "code",
   "execution_count": 8,
   "id": "caa6b979-eb11-4284-a059-9733009242d6",
   "metadata": {},
   "outputs": [],
   "source": [
    "search_engine = WebSearchEngine()"
   ]
  },
  {
   "cell_type": "markdown",
   "id": "c5586a83-802f-4961-86c6-70604c6eb3be",
   "metadata": {},
   "source": [
    "## Google Search"
   ]
  },
  {
   "cell_type": "code",
   "execution_count": 9,
   "id": "6b1178ae-4f40-47d4-8c12-543c870ac58c",
   "metadata": {},
   "outputs": [
    {
     "data": {
      "application/vnd.jupyter.widget-view+json": {
       "model_id": "eb97b58ec7264706a48784593a70fc64",
       "version_major": 2,
       "version_minor": 0
      },
      "text/plain": [
       "0it [00:00, ?it/s]"
      ]
     },
     "metadata": {},
     "output_type": "display_data"
    }
   ],
   "source": [
    "# a cada 100 consutar verificar se o tempo é inferior a 60 segundo, \n",
    "# caso afirmativo, esperar para não ultrapassar a quota do Google\n",
    "check_quota_step = 100\n",
    "last_check_timestamp = datetime.now().timestamp()\n",
    "\n",
    "min_search_time_interval = 0.35\n",
    "\n",
    "# opcional salvar resultados parcials em dataframe a cada verificação de quota\n",
    "partial_save_on_check = True\n",
    "\n",
    "# cota diária de pesquisa do Google é de 10.000 consultas\n",
    "# atualizar para o valor restante para evitar erros\n",
    "actual_daily_search_quota = 9950\n",
    "\n",
    "for count,item in enumerate(tqdm(google_items_to_search[:actual_daily_search_quota])):\n",
    "    try:\n",
    "        clean_results,raw_results = search_engine.google_search(item)\n",
    "        search_data.save_raw_search_results(raw_results)\n",
    "        search_data.update_search_results(clean_results) \n",
    "\n",
    "        # garante um intervalo mínimo de min_search_time_interval para \n",
    "        # evitar o estouro da cota de 100 pesquisas por minuto\n",
    "        # experimentos indicaram que 0.35s/pesquisa é suficiente\n",
    "        search_time = raw_results['searchInformation']['searchTime']\n",
    "        if search_time < min_search_time_interval:\n",
    "            time_to_sleep = min_search_time_interval - search_time\n",
    "            sleep(time_to_sleep)\n",
    "    \n",
    "        if (count + 1) % check_quota_step == 0:\n",
    "            actual_time = datetime.now().timestamp()\n",
    "            elapsed_time_since_last_check = actual_time - last_check_timestamp\n",
    "            print('Elapsed time since last check: {:.2f} seconds'.format(elapsed_time_since_last_check))\n",
    "    \n",
    "            last_check_timestamp = actual_time\n",
    "\n",
    "            if partial_save_on_check:\n",
    "                # file_to_save = 'products_search_results.parquet.{}'.format(datetime.now().timestamp())\n",
    "                file_to_save = 'products_search_results.parquet_'\n",
    "                search_data.save_clean_search_results(file_to_save)\n",
    "                print('Partial file {} saved on step {}'.format(file_to_save,count+1))\n",
    "                \n",
    "    except Exception as ex:\n",
    "        print('Saved current data... ')\n",
    "        search_data.save_clean_search_results()\n",
    "        raise ex\n",
    "\n",
    "search_data.save_clean_search_results()"
   ]
  },
  {
   "cell_type": "markdown",
   "id": "6374f528-99b9-4e9c-9af6-89bf62778804",
   "metadata": {},
   "source": [
    "## Bing Search"
   ]
  },
  {
   "cell_type": "code",
   "execution_count": 10,
   "id": "f85e6669-9eed-4028-b88e-fe9ca5862342",
   "metadata": {},
   "outputs": [
    {
     "data": {
      "application/vnd.jupyter.widget-view+json": {
       "model_id": "d93a93d0c53e4a2f92e06b5497b39ca1",
       "version_major": 2,
       "version_minor": 0
      },
      "text/plain": [
       "0it [00:00, ?it/s]"
      ]
     },
     "metadata": {},
     "output_type": "display_data"
    }
   ],
   "source": [
    "# a cada 100 consutar verificar se o tempo é inferior a 60 segundo, \n",
    "# caso afirmativo, esperar para não ultrapassar a quota do Google\n",
    "check_quota_step = 100\n",
    "last_check_timestamp = datetime.now().timestamp()\n",
    "\n",
    "min_search_time_interval = 0.35\n",
    "\n",
    "# opcional salvar resultados parcials em dataframe a cada verificação de quota\n",
    "partial_save_on_check = True\n",
    "\n",
    "# cota diária de pesquisa do Google é de 10.000 consultas\n",
    "# atualizar para o valor restante para evitar erros\n",
    "actual_daily_search_quota = 9000\n",
    "\n",
    "for count,item in enumerate(tqdm(bing_items_to_search[:actual_daily_search_quota])):\n",
    "    try:\n",
    "        clean_results,raw_results = search_engine.bing_search(item)\n",
    "        search_data.save_raw_search_results(raw_results)\n",
    "        search_data.update_search_results(clean_results) \n",
    "\n",
    "        # cota de chamadas no Bing é de 3 por segundo e 1.000 chamadas a cada 30 dias \n",
    "            \n",
    "        if (count + 1) % check_quota_step == 0:\n",
    "            actual_time = datetime.now().timestamp()\n",
    "            elapsed_time_since_last_check = actual_time - last_check_timestamp\n",
    "            print('Elapsed time since last check: {:.2f} seconds'.format(elapsed_time_since_last_check))\n",
    "    \n",
    "            last_check_timestamp = actual_time\n",
    "\n",
    "            if partial_save_on_check:\n",
    "                # file_to_save = 'products_search_results.parquet.{}'.format(datetime.now().timestamp())\n",
    "                file_to_save = 'products_search_results.parquet_'\n",
    "                search_data.save_clean_search_results(file_to_save)\n",
    "                print('Partial file {} saved on step {}'.format(file_to_save,count+1))\n",
    "                \n",
    "    except Exception as ex:\n",
    "        print('Saved current data... ')\n",
    "        search_data.save_clean_search_results()\n",
    "        raise ex\n",
    "\n",
    "search_data.save_clean_search_results()"
   ]
  },
  {
   "cell_type": "code",
   "execution_count": null,
   "id": "c32d037b-cf1c-48d7-af3e-bafaf2ea090e",
   "metadata": {},
   "outputs": [],
   "source": []
  }
 ],
 "metadata": {
  "kernelspec": {
   "display_name": "Python 3 (ipykernel)",
   "language": "python",
   "name": "python3"
  },
  "language_info": {
   "codemirror_mode": {
    "name": "ipython",
    "version": 3
   },
   "file_extension": ".py",
   "mimetype": "text/x-python",
   "name": "python",
   "nbconvert_exporter": "python",
   "pygments_lexer": "ipython3",
   "version": "3.10.12"
  }
 },
 "nbformat": 4,
 "nbformat_minor": 5
}
