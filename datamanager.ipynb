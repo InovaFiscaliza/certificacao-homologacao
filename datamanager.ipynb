{
 "cells": [
  {
   "cell_type": "code",
   "execution_count": 1,
   "id": "2c2f4b79-f82c-439a-8ea6-ef545f460f26",
   "metadata": {},
   "outputs": [],
   "source": [
    "from websearch import WebSearchDataManager\n",
    "from websearch import WebSearchEngine\n",
    "import pandas as pd\n",
    "import os"
   ]
  },
  {
   "cell_type": "code",
   "execution_count": 2,
   "id": "8f55365d-aac8-4a9b-a535-2d4a00fe73ed",
   "metadata": {},
   "outputs": [
    {
     "data": {
      "text/plain": [
       "[]"
      ]
     },
     "execution_count": 2,
     "metadata": {},
     "output_type": "execute_result"
    }
   ],
   "source": [
    "dm = WebSearchDataManager()\n",
    "dm.clean_search_results"
   ]
  },
  {
   "cell_type": "code",
   "execution_count": 15,
   "id": "5a9bc920-8f7e-4a28-9cee-77e1603c46d1",
   "metadata": {},
   "outputs": [
    {
     "name": "stdout",
     "output_type": "stream",
     "text": [
      "datasets/search_results\\products_search_results.parquet\n",
      "4130\n"
     ]
    }
   ],
   "source": [
    "dm.load_search_results('products_search_results.parquet')\n",
    "print(len(dm.clean_search_results))"
   ]
  },
  {
   "cell_type": "code",
   "execution_count": 14,
   "id": "142c805d-9f0e-4422-acf3-9859a33863e5",
   "metadata": {},
   "outputs": [
    {
     "name": "stdout",
     "output_type": "stream",
     "text": [
      "[]\n"
     ]
    }
   ],
   "source": [
    "print(dm.clean_search_results)"
   ]
  },
  {
   "cell_type": "code",
   "execution_count": 4,
   "id": "9aa715ea-4279-4b98-937d-c3a4ccf082f7",
   "metadata": {},
   "outputs": [],
   "source": [
    "ws = WebSearchEngine()\n",
    "wsr = ws.google_search('Xiaomi Redmi 14')\n",
    "clean_results,raw_results=wsr"
   ]
  },
  {
   "cell_type": "code",
   "execution_count": 10,
   "id": "fd3e7caa-9e33-487d-a953-77fc0e931eb0",
   "metadata": {},
   "outputs": [],
   "source": [
    "dm.save_clean_search_results('oioioi.parquet')"
   ]
  },
  {
   "cell_type": "code",
   "execution_count": null,
   "id": "4d98f5a5-aa53-45e8-beae-588249d20f4e",
   "metadata": {},
   "outputs": [],
   "source": [
    "# columns_to_keep = ['search_provider', 'original_query', 'name', 'url', 'snippet']\n",
    "# df = df[columns_to_keep]\n",
    "df_google.head()"
   ]
  },
  {
   "cell_type": "code",
   "execution_count": null,
   "id": "7cfed7a5-6288-4473-bba2-bc278eeddaf5",
   "metadata": {},
   "outputs": [],
   "source": [
    "df_bing.head()"
   ]
  },
  {
   "cell_type": "code",
   "execution_count": null,
   "id": "61b41d65-3aed-40b3-98e5-81ad2a8cc47b",
   "metadata": {},
   "outputs": [],
   "source": [
    "df = pd.concat([df_google,df_bing])\n",
    "df"
   ]
  },
  {
   "cell_type": "code",
   "execution_count": null,
   "id": "e18c009d-2807-4936-896b-2ea3d7a3a743",
   "metadata": {},
   "outputs": [],
   "source": [
    "df=df.drop_duplicates(subset=['search_provider','url'])\n",
    "df=df.reset_index(drop=True)\n",
    "df"
   ]
  },
  {
   "cell_type": "code",
   "execution_count": null,
   "id": "fd246568-0d3c-4074-8f5b-b0da23fecd10",
   "metadata": {},
   "outputs": [],
   "source": [
    "df.to_dict('records')"
   ]
  },
  {
   "cell_type": "code",
   "execution_count": null,
   "id": "922e5fb4-7064-48f9-8606-18c883614a8a",
   "metadata": {},
   "outputs": [],
   "source": [
    "file_bing='datasets/bing_search_results.csv.zip'\n",
    "df_bing=pd.read_csv(file_bing,sep='|')\n",
    "df_bing['search_provider']='Bing'\n",
    "df_bing.columns"
   ]
  },
  {
   "cell_type": "code",
   "execution_count": null,
   "id": "326a57a4-3fa4-4a9d-bdcb-25430fde4ffa",
   "metadata": {},
   "outputs": [],
   "source": [
    "columns_to_keep = ['originalQuery', 'name', 'url', 'snippet', 'search_provider']\n",
    "df_bing=df_bing[columns_to_keep]\n",
    "df_bing.columns=['original_query', 'name', 'url', 'snippet', 'search_provider']\n",
    "columns_to_keep = ['search_provider', 'original_query', 'name', 'url', 'snippet']\n",
    "df_bing=df_bing[columns_to_keep]"
   ]
  },
  {
   "cell_type": "code",
   "execution_count": null,
   "id": "3119c636-97d7-4df8-86e9-2c48d67cf3e5",
   "metadata": {},
   "outputs": [],
   "source": [
    "from datetime import datetime\n",
    "t=0\n",
    "for i in range(1000):\n",
    "    int(format(datetime.now().strftime('%Y%m%d%H%M%S%f')))\n"
   ]
  },
  {
   "cell_type": "code",
   "execution_count": null,
   "id": "49016be3-d4b8-490e-a739-254c407220f6",
   "metadata": {},
   "outputs": [],
   "source": [
    "t=datetime.now()\n",
    "t"
   ]
  },
  {
   "cell_type": "code",
   "execution_count": null,
   "id": "29e38875-b0a2-4ea1-b81b-3d3cf46a67b4",
   "metadata": {},
   "outputs": [],
   "source": [
    "t.toordinal()"
   ]
  }
 ],
 "metadata": {
  "kernelspec": {
   "display_name": "Python 3 (ipykernel)",
   "language": "python",
   "name": "python3"
  },
  "language_info": {
   "codemirror_mode": {
    "name": "ipython",
    "version": 3
   },
   "file_extension": ".py",
   "mimetype": "text/x-python",
   "name": "python",
   "nbconvert_exporter": "python",
   "pygments_lexer": "ipython3",
   "version": "3.10.12"
  }
 },
 "nbformat": 4,
 "nbformat_minor": 5
}
